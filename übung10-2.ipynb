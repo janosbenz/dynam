{
 "cells": [
  {
   "cell_type": "markdown",
   "metadata": {},
   "source": [
    "## Übung 10.2\n",
    "### Physikalische Konstanten"
   ]
  },
  {
   "cell_type": "code",
   "execution_count": 1,
   "metadata": {},
   "outputs": [],
   "source": [
    "rho_wasser  = 1000   # kg/m^3\n",
    "rho_luft    = 1.0    # kg/m^3\n",
    "rho_granit  = 2700   # kg/m^3\n",
    "\n",
    "gravitation = 10     # m/s^2\n",
    "\n",
    "K_wasser    = 2.2 * 10**9 # Pa\n",
    "K_luft      = 1   * 10**5 # Pa \n",
    "K_granit    = 5   * 10**10 # Pa"
   ]
  },
  {
   "cell_type": "markdown",
   "metadata": {},
   "source": [
    "### Funktionen"
   ]
  },
  {
   "cell_type": "code",
   "execution_count": 3,
   "metadata": {},
   "outputs": [
    {
     "data": {
      "text/plain": [
       "2200.0"
      ]
     },
     "execution_count": 3,
     "metadata": {},
     "output_type": "execute_result"
    }
   ],
   "source": [
    "# Berechnet die benötigte Druckänderung um ein Volumen V um Delta_V zu verändern\n",
    "def f_delta_P(K, Delta_V, V):\n",
    "    delta_P =  K * Delta_V / V\n",
    "    return delta_P\n",
    "\n",
    "def f_tiefe(dichte, Delta_P):\n",
    "    tiefe = Delta_P / (dichte * gravitation)\n",
    "    return tiefe\n",
    "\n",
    "delta_P_wasser = f_delta_P(K_wasser, 0.01, 1)"
   ]
  },
  {
   "cell_type": "markdown",
   "metadata": {},
   "source": [
    "### Hier ausprobieren :)"
   ]
  },
  {
   "cell_type": "code",
   "execution_count": null,
   "metadata": {},
   "outputs": [],
   "source": []
  }
 ],
 "metadata": {
  "kernelspec": {
   "display_name": "Python 3",
   "language": "python",
   "name": "python3"
  },
  "language_info": {
   "codemirror_mode": {
    "name": "ipython",
    "version": 3
   },
   "file_extension": ".py",
   "mimetype": "text/x-python",
   "name": "python",
   "nbconvert_exporter": "python",
   "pygments_lexer": "ipython3",
   "version": "3.11.0"
  },
  "orig_nbformat": 4
 },
 "nbformat": 4,
 "nbformat_minor": 2
}
