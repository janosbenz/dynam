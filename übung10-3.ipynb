{
 "cells": [
  {
   "cell_type": "markdown",
   "metadata": {},
   "source": [
    "# Übung 10.3"
   ]
  },
  {
   "cell_type": "code",
   "execution_count": null,
   "metadata": {},
   "outputs": [],
   "source": [
    "import numpy as np\n",
    "\n",
    "tiefe  = np.array([100, 1000, 4000, 6371])      # Tiefe in km\n",
    "dichte = np.array([3.38, 4.58, 11.32, 13.09])   # Dichte in kg/m^3\n",
    "p_wave = np.array([8.05, 11.46, 9.51, 11.26])   # Geschwindigkeit in km/s\n",
    "s_wave = np.array([4.45, 6.38, 0, 3.67])        # Geschwindigkeit in km/s"
   ]
  },
  {
   "cell_type": "markdown",
   "metadata": {},
   "source": [
    "Zuerst muss man alles in SI Einheiten umwandeln, sonst wird es verwirrend!"
   ]
  },
  {
   "cell_type": "code",
   "execution_count": null,
   "metadata": {},
   "outputs": [],
   "source": [
    "tiefe_SI  = ... # in m\n",
    "dichte_SI = ... # in kg/m^3\n",
    "p_wave_SI = ... # in m/s\n",
    "s_wave_SI = ... # in m/s"
   ]
  },
  {
   "cell_type": "markdown",
   "metadata": {},
   "source": [
    "Jetzt können wir das Schermodul und das Kompressionsmodul berechnen"
   ]
  },
  {
   "cell_type": "code",
   "execution_count": null,
   "metadata": {},
   "outputs": [],
   "source": [
    "mu = s_wave**2 * dichte\n",
    "K  = ..."
   ]
  },
  {
   "cell_type": "markdown",
   "metadata": {},
   "source": [
    "### Plotten  \n",
    "Einfach laufen lassen "
   ]
  },
  {
   "cell_type": "code",
   "execution_count": null,
   "metadata": {},
   "outputs": [],
   "source": [
    "import matplotlib.pyplot as plt\n",
    "\n",
    "plt.plot(K,  tiefe, label='Kompressionsmodul')\n",
    "plt.plot(mu, tiefe, label='Schubmodul')\n",
    "plt.ylabel('Tiefe [km]')\n",
    "plt.gca().invert_yaxis()\n",
    "plt.legend()"
   ]
  }
 ],
 "metadata": {
  "kernelspec": {
   "display_name": "Python 3",
   "language": "python",
   "name": "python3"
  },
  "language_info": {
   "codemirror_mode": {
    "name": "ipython",
    "version": 3
   },
   "file_extension": ".py",
   "mimetype": "text/x-python",
   "name": "python",
   "nbconvert_exporter": "python",
   "pygments_lexer": "ipython3",
   "version": "3.11.0"
  },
  "orig_nbformat": 4
 },
 "nbformat": 4,
 "nbformat_minor": 2
}
